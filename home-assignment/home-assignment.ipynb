{
 "cells": [
  {
   "cell_type": "code",
   "execution_count": 8,
   "metadata": {},
   "outputs": [
    {
     "name": "stderr",
     "output_type": "stream",
     "text": [
      "/opt/conda/lib/python3.7/site-packages/qiskit/providers/ibmq/ibmqfactory.py:192: UserWarning: Timestamps in IBMQ backend properties, jobs, and job results are all now in local time instead of UTC.\n",
      "  warnings.warn('Timestamps in IBMQ backend properties, jobs, and job results '\n",
      "ibmqfactory.load_account:WARNING:2020-12-13 19:35:20,106: Credentials are already in use. The existing account in the session will be replaced.\n"
     ]
    }
   ],
   "source": [
    "from typing import Union\n",
    "from random import randint\n",
    "\n",
    "from qiskit import QuantumCircuit, execute, Aer, IBMQ\n",
    "from qiskit.providers.ibmq import least_busy\n",
    "from qiskit.compiler import transpile, assemble\n",
    "from qiskit.tools.jupyter import *\n",
    "from qiskit.visualization import *\n",
    "from qiskit import QuantumRegister, ClassicalRegister, AncillaRegister\n",
    "from numpy import pi\n",
    "# uncomment to check version\n",
    "# import qiskit\n",
    "# print(qiskit.__version__)\n",
    "\n",
    "provider = IBMQ.load_account()"
   ]
  },
  {
   "cell_type": "code",
   "execution_count": 9,
   "metadata": {},
   "outputs": [
    {
     "data": {
      "application/vnd.jupyter.widget-view+json": {
       "model_id": "07acd26a96784709b07ce75ea69cd9cd",
       "version_major": 2,
       "version_minor": 0
      },
      "text/plain": [
       "VBox(children=(HTML(value=\"<h1 style='color:#ffffff;background-color:#000000;padding-top: 1%;padding-bottom: 1…"
      ]
     },
     "metadata": {},
     "output_type": "display_data"
    },
    {
     "data": {
      "text/plain": [
       "<IBMQBackend('ibmq_16_melbourne') from IBMQ(hub='ibm-q', group='open', project='main')>"
      ]
     },
     "execution_count": 9,
     "metadata": {},
     "output_type": "execute_result"
    }
   ],
   "source": [
    "# Number of shots\n",
    "shots = 1024\n",
    "\n",
    "# Choose a device\n",
    "provider = IBMQ.get_provider(hub='ibm-q', group='open', project='main')\n",
    "\n",
    "# Set the secret here\n",
    "s = '11'\n",
    "n = len(s) * 2\n",
    "\n",
    "# Run on quantum computer\n",
    "backend = least_busy(provider.backends(filters=lambda x: x.configuration().n_qubits >= n and \n",
    "                                   not x.configuration().simulator and x.status().operational==True))\n",
    "\n",
    "# OR\n",
    "\n",
    "# run on simulating Backend\n",
    "# backend = Aer.get_backend('qasm_simulator')\n",
    "\n",
    "backend"
   ]
  },
  {
   "cell_type": "code",
   "execution_count": 10,
   "metadata": {},
   "outputs": [],
   "source": [
    "class SimonBlackbox:\n",
    "    def __init__(self, secret: str):\n",
    "        \"\"\"The Simon Blackbox requires to have a secret string to\n",
    "        xor with the input\n",
    "\n",
    "        @param {String} secret\n",
    "        @returns {SimonBlackbox}\n",
    "        \"\"\"\n",
    "        self.secret = secret[::-1]  # Reversed cause the IBM Computers write the qbits in reverse order\n",
    "    \n",
    "    def run(self, circ: QuantumCircuit, qreg: QuantumRegister, areg: AncillaRegister):\n",
    "        \"\"\"run() executes the blackbox changing the state\n",
    "        to |x> |f(x)>\n",
    "\n",
    "        @param {QuantumCircuit}\n",
    "        @param {QuantumRegister} qreg\n",
    "        @param {AncillaRegister} areg\n",
    "        \"\"\"\n",
    "        # The length of the registers must be the same as the\n",
    "        # length of the secret\n",
    "        if len(qreg) != len(self.secret):\n",
    "            raise Exception(f\"The length of the qbit register ({len(qreg)}) didn't match the length of the secret ({len(self.secret)}).\")\n",
    "        # First step: Copy the input to the output\n",
    "        for i, x in enumerate(qreg):\n",
    "            circ.cx(x, areg[i])\n",
    "        # Second step: Find the first occurence of a '1' in the secret\n",
    "        first_one: int = self.secret.find('1')\n",
    "        if first_one < 0:\n",
    "            # there was no 1, the string of all 0's\n",
    "            # returns exactly the output\n",
    "            return\n",
    "        # Third step: iterate through all the ancilla qubits\n",
    "        # and CNOT Controlling the bit in the input at the same\n",
    "        # index where the first '1' was found in the secret and\n",
    "        # NOT all the ancilla bits at the same index of any '1'\n",
    "        # in the secret\n",
    "        for i, bit_ancilla in enumerate(areg):\n",
    "            if self.secret[i] == '1':\n",
    "                circ.cx(qreg[first_one], bit_ancilla)\n",
    "    \n",
    "    def sdota(self, data):\n",
    "        \"\"\"Takes the data and returns the dot multiplications\n",
    "        with the secret\n",
    "        \"\"\"\n",
    "        accu = 0\n",
    "        real_secret = self.secret[::-1]  # It was reversed before\n",
    "        for i in range(len(self.secret)):\n",
    "            accu += int(real_secret[i]) * int(data[i])\n",
    "        return (accu % 2)"
   ]
  },
  {
   "cell_type": "code",
   "execution_count": 11,
   "metadata": {},
   "outputs": [],
   "source": [
    "# Initialize Circuit\n",
    "quantum_reg = QuantumRegister(n/2, \"q\")\n",
    "ancilla_reg = AncillaRegister(n/2, \"a\")\n",
    "classical_reg = ClassicalRegister(n/2, \"c\")\n",
    "\n",
    "circ = QuantumCircuit(quantum_reg, ancilla_reg, classical_reg, name=\"Home Assignment\")"
   ]
  },
  {
   "cell_type": "code",
   "execution_count": 12,
   "metadata": {},
   "outputs": [
    {
     "data": {
      "image/png": "[encoded data removed]",
      "text/plain": [
       "<Figure size 568.197x445.48 with 1 Axes>"
      ]
     },
     "execution_count": 12,
     "metadata": {},
     "output_type": "execute_result"
    }
   ],
   "source": [
    "blackbox = SimonBlackbox(s)\n",
    "\n",
    "for qbit in quantum_reg:\n",
    "    circ.h(qbit)\n",
    "\n",
    "circ.barrier()\n",
    "blackbox.run(circ, quantum_reg, ancilla_reg)\n",
    "circ.barrier()\n",
    "\n",
    "circ.draw(output='mpl')"
   ]
  },
  {
   "cell_type": "code",
   "execution_count": 13,
   "metadata": {},
   "outputs": [
    {
     "data": {
      "image/png": "[encoded data removed]",
      "text/plain": [
       "<Figure size 808.997x445.48 with 1 Axes>"
      ]
     },
     "execution_count": 13,
     "metadata": {},
     "output_type": "execute_result"
    }
   ],
   "source": [
    "for index, qbit in enumerate(quantum_reg):\n",
    "    circ.h(qbit)\n",
    "    circ.measure(qbit, classical_reg[index])\n",
    "\n",
    "circ.draw(output='mpl')"
   ]
  },
  {
   "cell_type": "code",
   "execution_count": 14,
   "metadata": {},
   "outputs": [
    {
     "name": "stdout",
     "output_type": "stream",
     "text": [
      "Job Status: job has successfully run\n"
     ]
    },
    {
     "data": {
      "image/png": "[encoded data removed]",
      "text/plain": [
       "<Figure size 504x360 with 1 Axes>"
      ]
     },
     "execution_count": 14,
     "metadata": {},
     "output_type": "execute_result"
    }
   ],
   "source": [
    "job = execute(circ, backend=backend, shots=shots)\n",
    "\n",
    "from qiskit.tools.monitor import job_monitor\n",
    "job_monitor(job, interval = 2)\n",
    "\n",
    "result = job.result()\n",
    "\n",
    "# Returns counts\n",
    "data = result.get_counts(circ)\n",
    "\n",
    "# Draw an Histogram\n",
    "plot_histogram(data)"
   ]
  },
  {
   "cell_type": "code",
   "execution_count": 15,
   "metadata": {},
   "outputs": [
    {
     "name": "stdout",
     "output_type": "stream",
     "text": [
      "secret.000 = 0 (mod 2)\n",
      "secret.001 = 0 (mod 2)\n",
      "secret.010 = 1 (mod 2)\n",
      "secret.011 = 1 (mod 2)\n",
      "secret.100 = 1 (mod 2)\n",
      "secret.101 = 1 (mod 2)\n",
      "secret.110 = 0 (mod 2)\n",
      "secret.111 = 0 (mod 2)\n"
     ]
    }
   ],
   "source": [
    "dot_results: list = []\n",
    "\n",
    "x: str\n",
    "for x in data:\n",
    "    dot_results.append(blackbox.sdota(x))\n",
    "    print(f\"secret.{x} = {blackbox.sdota(x)} (mod 2)\")"
   ]
  },
  {
   "cell_type": "code",
   "execution_count": null,
   "metadata": {},
   "outputs": [],
   "source": []
  }
 ],
 "metadata": {
  "kernelspec": {
   "display_name": "Python 3",
   "language": "python",
   "name": "python3"
  },
  "language_info": {
   "codemirror_mode": {
    "name": "ipython",
    "version": 3
   },
   "file_extension": ".py",
   "mimetype": "text/x-python",
   "name": "python",
   "nbconvert_exporter": "python",
   "pygments_lexer": "ipython3",
   "version": "3.7.8"
  }
 },
 "nbformat": 4,
 "nbformat_minor": 2
}
