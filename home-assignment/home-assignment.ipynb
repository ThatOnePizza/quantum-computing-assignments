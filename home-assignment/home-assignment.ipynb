{
 "metadata": {
  "language_info": {
   "codemirror_mode": {
    "name": "ipython",
    "version": 3
   },
   "file_extension": ".py",
   "mimetype": "text/x-python",
   "name": "python",
   "nbconvert_exporter": "python",
   "pygments_lexer": "ipython3",
   "version": "3.8.5-final"
  },
  "orig_nbformat": 2,
  "kernelspec": {
   "name": "Python 3.8.5 64-bit ('quantum': conda)",
   "display_name": "Python 3.8.5 64-bit ('quantum': conda)",
   "metadata": {
    "interpreter": {
     "hash": "5e49df35690c8921fcd6b4ac4d24166ce5bf8a501fa4258cd5a8db8590db74f9"
    }
   }
  }
 },
 "nbformat": 4,
 "nbformat_minor": 2,
 "cells": [
  {
   "cell_type": "code",
   "execution_count": 12,
   "metadata": {},
   "outputs": [
    {
     "output_type": "stream",
     "name": "stderr",
     "text": [
      "ibmqfactory.load_account:WARNING:2020-11-29 15:00:45,664: Credentials are already in use. The existing account in the session will be replaced.\n"
     ]
    }
   ],
   "source": [
    "from typing import Union\n",
    "\n",
    "from qiskit import QuantumCircuit, execute, Aer, IBMQ\n",
    "from qiskit.compiler import transpile, assemble\n",
    "from qiskit.tools.jupyter import *\n",
    "from qiskit.visualization import *\n",
    "from qiskit import QuantumRegister, ClassicalRegister, AncillaRegister\n",
    "from numpy import pi\n",
    "# uncomment to check version\n",
    "# import qiskit\n",
    "# print(qiskit.__version__)\n",
    "\n",
    "provider = IBMQ.load_account()\n"
   ]
  },
  {
   "cell_type": "code",
   "execution_count": 13,
   "metadata": {},
   "outputs": [],
   "source": [
    "# Number of shots\n",
    "shots = 1\n",
    "\n",
    "# Choose a device\n",
    "provider = IBMQ.get_provider(hub='ibm-q', group='open', project='main')\n",
    "\n",
    "# Run on quantum computer\n",
    "# backend = provider.get_backend('ibmq_vigo')\n",
    "\n",
    "# OR\n",
    "\n",
    "# run on simulating Backend\n",
    "simulator = Aer.get_backend('qasm_simulator')"
   ]
  },
  {
   "cell_type": "code",
   "execution_count": 14,
   "metadata": {},
   "outputs": [],
   "source": [
    "def require_not_empty(reg: Union[QuantumRegister, AncillaRegister, ClassicalRegister]):\n",
    "    if len(reg) < 1:\n",
    "        raise Exception(\"Register is required to be not empty\")\n",
    "    return reg\n",
    "\n",
    "\n",
    "def get_black_box(black_box_type: str):\n",
    "    \"\"\"returns one of the 4 possible functions (black box) between:\n",
    "    `zero-constant` f(0) = f(1) = 0\n",
    "    `one-constant` f(0) = f(1) = 1\n",
    "    `balanced` f(0) = 0, f(1) = 1\n",
    "    `inv-balanced` f(0) = 1, f(1) = 0\n",
    "\n",
    "    It's job is to add the result of the function applied to the qubit\n",
    "    to the ancilla:\n",
    "    ancilla = ancilla + f(qubit)\n",
    "    \n",
    "    :param str type: parameter selecting which function to generate\n",
    "    \"\"\"\n",
    "    if black_box_type == \"zero-constant\":\n",
    "        def zero_constant(circuit: QuantumCircuit, q_reg: QuantumRegister, ancilla_reg: AncillaRegister):\n",
    "            pass\n",
    "        return zero_constant\n",
    "    elif black_box_type == \"one-constant\":\n",
    "        def one_constant(circuit: QuantumCircuit, q_reg: QuantumRegister, ancilla_reg: AncillaRegister):\n",
    "            require_not_empty(q_reg)\n",
    "            require_not_empty(ancilla_reg)\n",
    "            circuit.x(ancilla_reg[0])\n",
    "        return one_constant\n",
    "    elif black_box_type == \"balanced\":\n",
    "        def balanced(circuit: QuantumCircuit, q_reg: QuantumRegister, ancilla_reg: AncillaRegister):\n",
    "            require_not_empty(q_reg)\n",
    "            require_not_empty(ancilla_reg)\n",
    "            circuit.cx(q_reg[0], ancilla_reg[0])\n",
    "        return balanced\n",
    "    elif black_box_type == \"inv-balanced\":\n",
    "        def inv_balanced(circuit: QuantumCircuit, q_reg: QuantumRegister, ancilla_reg: AncillaRegister):\n",
    "            require_not_empty(q_reg)\n",
    "            require_not_empty(ancilla_reg)\n",
    "            circuit.cx(q_reg[0], ancilla_reg[0])\n",
    "            circuit.cx(ancilla_reg[0])\n",
    "        return inv_balanced\n"
   ]
  },
  {
   "cell_type": "code",
   "execution_count": 17,
   "metadata": {},
   "outputs": [],
   "source": [
    "quantum_reg = QuantumRegister(1, \"q\")\n",
    "ancilla_reg = AncillaRegister(1, \"a\")\n",
    "classical_reg = ClassicalRegister(1, \"c\")\n",
    "\n",
    "circ = QuantumCircuit(quantum_reg, ancilla_reg, classical_reg, name=\"Home Assignment\")"
   ]
  },
  {
   "cell_type": "code",
   "execution_count": null,
   "metadata": {},
   "outputs": [],
   "source": []
  }
 ]
}